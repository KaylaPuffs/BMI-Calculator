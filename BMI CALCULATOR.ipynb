{
 "cells": [
  {
   "cell_type": "code",
   "execution_count": 8,
   "id": "e6acd58f-a2f7-45d7-baa4-cb4d8592b225",
   "metadata": {},
   "outputs": [
    {
     "name": "stdin",
     "output_type": "stream",
     "text": [
      "enter your weight in pounds :  170\n",
      "enter your height in inches :  69\n"
     ]
    },
    {
     "name": "stdout",
     "output_type": "stream",
     "text": [
      "25.101869355177485\n"
     ]
    }
   ],
   "source": [
    "weight =int( input(\"enter your weight in pounds : \"))\n",
    "height = int(input(\"enter your height in inches : \"))\n",
    "BMI = (weight * 703) / (height * height)\n",
    "print (BMI)"
   ]
  },
  {
   "cell_type": "code",
   "execution_count": 2,
   "id": "b7b1d1b7-8a11-414a-96e0-1bdde9f1feae",
   "metadata": {},
   "outputs": [
    {
     "name": "stdout",
     "output_type": "stream",
     "text": [
      "alex\n"
     ]
    }
   ],
   "source": [
    "Under 18.5 - UNDERWEIGHT -MINIMAL\n",
    "18.5- 24.9 - NORMAL WEIGHT --MINIMAL\n",
    "25- 29.9 - OVERWEIGHT --INCREASED\n",
    "30- 34.9 -- OBESE -- HIGH\n",
    "35 - 39.9 -- SEVERELY OBESE - VERY HIGH\n",
    "40 AND ABOVE -- MORBIDLY OBESE -- EXTREMELY HIGH"
   ]
  },
  {
   "cell_type": "code",
   "execution_count": null,
   "id": "5a6cd328-7e40-45c3-bfe8-ef16a18c5a3a",
   "metadata": {},
   "outputs": [],
   "source": []
  },
  {
   "cell_type": "code",
   "execution_count": 13,
   "id": "1f92d5bb-38e3-4ece-a50d-6e8f1042ca96",
   "metadata": {},
   "outputs": [
    {
     "name": "stdout",
     "output_type": "stream",
     "text": [
      "You are overweight\n"
     ]
    }
   ],
   "source": [
    "if BMI>0:\n",
    "    if(BMI < 18.5):\n",
    "        print(\"You are underweight\")\n",
    "    elif(BMI <= 24.9):\n",
    "        print(\"You are normal weight\")\n",
    "    elif(BMI < 29.9):\n",
    "        print(\"You are overweight\")\n",
    "    else:\n",
    "        print(\"valid input\")\n"
   ]
  },
  {
   "cell_type": "code",
   "execution_count": null,
   "id": "9abb3447-4f87-452e-a1cc-7f38e0826797",
   "metadata": {},
   "outputs": [],
   "source": []
  },
  {
   "cell_type": "code",
   "execution_count": null,
   "id": "eef12ba9-2755-40ce-937a-bb56e88173c2",
   "metadata": {},
   "outputs": [],
   "source": [
    "print (weight)"
   ]
  },
  {
   "cell_type": "code",
   "execution_count": null,
   "id": "3cf10748-665d-4d3f-94cc-dabcdd91a491",
   "metadata": {},
   "outputs": [],
   "source": []
  },
  {
   "cell_type": "code",
   "execution_count": null,
   "id": "5febfcfc-9d0f-4242-b7d9-79321e28e76f",
   "metadata": {},
   "outputs": [],
   "source": []
  },
  {
   "cell_type": "code",
   "execution_count": null,
   "id": "d76a77b8-29b5-4b76-8cf8-d98402f3b841",
   "metadata": {},
   "outputs": [],
   "source": []
  }
 ],
 "metadata": {
  "kernelspec": {
   "display_name": "Python 3 (ipykernel)",
   "language": "python",
   "name": "python3"
  },
  "language_info": {
   "codemirror_mode": {
    "name": "ipython",
    "version": 3
   },
   "file_extension": ".py",
   "mimetype": "text/x-python",
   "name": "python",
   "nbconvert_exporter": "python",
   "pygments_lexer": "ipython3",
   "version": "3.11.7"
  }
 },
 "nbformat": 4,
 "nbformat_minor": 5
}
